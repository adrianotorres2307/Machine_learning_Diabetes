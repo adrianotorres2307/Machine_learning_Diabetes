{
  "nbformat": 4,
  "nbformat_minor": 0,
  "metadata": {
    "colab": {
      "name": "Machine_Learning_Diabetes.ipynb",
      "provenance": []
    },
    "kernelspec": {
      "name": "python3",
      "display_name": "Python 3"
    },
    "language_info": {
      "name": "python"
    }
  },
  "cells": [
    {
      "cell_type": "markdown",
      "metadata": {
        "id": "Q9EwkXRakkYt"
      },
      "source": [
        "# **Análise do Dataset**"
      ]
    },
    {
      "cell_type": "code",
      "metadata": {
        "colab": {
          "base_uri": "https://localhost:8080/",
          "height": 0
        },
        "id": "_m6sbI_DbcRD",
        "outputId": "af6dc39e-2f19-46ec-a303-8e4d6315c3ac"
      },
      "source": [
        "import pandas as pd\n",
        "diabetes = pd.read_csv('diabetes.csv')\n",
        "diabetes.head(3)"
      ],
      "execution_count": 14,
      "outputs": [
        {
          "output_type": "execute_result",
          "data": {
            "text/html": [
              "<div>\n",
              "<style scoped>\n",
              "    .dataframe tbody tr th:only-of-type {\n",
              "        vertical-align: middle;\n",
              "    }\n",
              "\n",
              "    .dataframe tbody tr th {\n",
              "        vertical-align: top;\n",
              "    }\n",
              "\n",
              "    .dataframe thead th {\n",
              "        text-align: right;\n",
              "    }\n",
              "</style>\n",
              "<table border=\"1\" class=\"dataframe\">\n",
              "  <thead>\n",
              "    <tr style=\"text-align: right;\">\n",
              "      <th></th>\n",
              "      <th>Pregnancies</th>\n",
              "      <th>Glucose</th>\n",
              "      <th>BloodPressure</th>\n",
              "      <th>SkinThickness</th>\n",
              "      <th>Insulin</th>\n",
              "      <th>BMI</th>\n",
              "      <th>DiabetesPedigreeFunction</th>\n",
              "      <th>Age</th>\n",
              "      <th>Outcome</th>\n",
              "    </tr>\n",
              "  </thead>\n",
              "  <tbody>\n",
              "    <tr>\n",
              "      <th>0</th>\n",
              "      <td>6</td>\n",
              "      <td>148</td>\n",
              "      <td>72</td>\n",
              "      <td>35</td>\n",
              "      <td>0</td>\n",
              "      <td>33.6</td>\n",
              "      <td>0.627</td>\n",
              "      <td>50</td>\n",
              "      <td>1</td>\n",
              "    </tr>\n",
              "    <tr>\n",
              "      <th>1</th>\n",
              "      <td>1</td>\n",
              "      <td>85</td>\n",
              "      <td>66</td>\n",
              "      <td>29</td>\n",
              "      <td>0</td>\n",
              "      <td>26.6</td>\n",
              "      <td>0.351</td>\n",
              "      <td>31</td>\n",
              "      <td>0</td>\n",
              "    </tr>\n",
              "    <tr>\n",
              "      <th>2</th>\n",
              "      <td>8</td>\n",
              "      <td>183</td>\n",
              "      <td>64</td>\n",
              "      <td>0</td>\n",
              "      <td>0</td>\n",
              "      <td>23.3</td>\n",
              "      <td>0.672</td>\n",
              "      <td>32</td>\n",
              "      <td>1</td>\n",
              "    </tr>\n",
              "  </tbody>\n",
              "</table>\n",
              "</div>"
            ],
            "text/plain": [
              "   Pregnancies  Glucose  BloodPressure  ...  DiabetesPedigreeFunction  Age  Outcome\n",
              "0            6      148             72  ...                     0.627   50        1\n",
              "1            1       85             66  ...                     0.351   31        0\n",
              "2            8      183             64  ...                     0.672   32        1\n",
              "\n",
              "[3 rows x 9 columns]"
            ]
          },
          "metadata": {},
          "execution_count": 14
        }
      ]
    },
    {
      "cell_type": "code",
      "metadata": {
        "colab": {
          "base_uri": "https://localhost:8080/"
        },
        "id": "bu3Wc27DfgV7",
        "outputId": "8af3c9b0-be9d-4e14-8d94-4e8d80e38a7e"
      },
      "source": [
        "features = [\"Pregnancies\", \"Glucose\", \"SkinThickness\", \"Insulin\", \"BMI\", \"DiabetesPedigreeFunction\", \"Age\"]\n",
        "label = \"Outcome\"\n",
        "X, y = diabetes[features].values, diabetes[label].values\n",
        "\n",
        "for n in range(0,4):\n",
        " print(\"Paciente\", str(n+1), \"\\n Features:\", list(X[n]), \"\\n Label:\", y[n])"
      ],
      "execution_count": 15,
      "outputs": [
        {
          "output_type": "stream",
          "name": "stdout",
          "text": [
            "Paciente 1 \n",
            " Features: [6.0, 148.0, 35.0, 0.0, 33.6, 0.627, 50.0] \n",
            " Label: 1\n",
            "Paciente 2 \n",
            " Features: [1.0, 85.0, 29.0, 0.0, 26.6, 0.35100000000000003, 31.0] \n",
            " Label: 0\n",
            "Paciente 3 \n",
            " Features: [8.0, 183.0, 0.0, 0.0, 23.3, 0.672, 32.0] \n",
            " Label: 1\n",
            "Paciente 4 \n",
            " Features: [1.0, 89.0, 23.0, 94.0, 28.1, 0.16699999999999998, 21.0] \n",
            " Label: 0\n"
          ]
        }
      ]
    },
    {
      "cell_type": "code",
      "metadata": {
        "colab": {
          "base_uri": "https://localhost:8080/",
          "height": 0
        },
        "id": "RqKbyeOfg22M",
        "outputId": "4274dee3-afe7-4b1a-d316-c7489c1309d0"
      },
      "source": [
        "from matplotlib import pyplot as plt\n",
        "%matplotlib inline\n",
        "\n",
        "features = [\"Pregnancies\", \"Glucose\", \"SkinThickness\", \"Insulin\", \"BMI\", \"DiabetesPedigreeFunction\", \"Age\"]\n",
        "for col in features:\n",
        "  diabetes.boxplot(column=col, by=\"Outcome\", figsize=(6,6))\n",
        "  plt.title(col)\n",
        "plt.show()"
      ],
      "execution_count": 16,
      "outputs": [
        {
          "output_type": "stream",
          "name": "stderr",
          "text": [
            "/usr/local/lib/python3.7/dist-packages/numpy/core/_asarray.py:83: VisibleDeprecationWarning: Creating an ndarray from ragged nested sequences (which is a list-or-tuple of lists-or-tuples-or ndarrays with different lengths or shapes) is deprecated. If you meant to do this, you must specify 'dtype=object' when creating the ndarray\n",
            "  return array(a, dtype, copy=False, order=order)\n",
            "/usr/local/lib/python3.7/dist-packages/numpy/core/_asarray.py:83: VisibleDeprecationWarning: Creating an ndarray from ragged nested sequences (which is a list-or-tuple of lists-or-tuples-or ndarrays with different lengths or shapes) is deprecated. If you meant to do this, you must specify 'dtype=object' when creating the ndarray\n",
            "  return array(a, dtype, copy=False, order=order)\n",
            "/usr/local/lib/python3.7/dist-packages/numpy/core/_asarray.py:83: VisibleDeprecationWarning: Creating an ndarray from ragged nested sequences (which is a list-or-tuple of lists-or-tuples-or ndarrays with different lengths or shapes) is deprecated. If you meant to do this, you must specify 'dtype=object' when creating the ndarray\n",
            "  return array(a, dtype, copy=False, order=order)\n",
            "/usr/local/lib/python3.7/dist-packages/numpy/core/_asarray.py:83: VisibleDeprecationWarning: Creating an ndarray from ragged nested sequences (which is a list-or-tuple of lists-or-tuples-or ndarrays with different lengths or shapes) is deprecated. If you meant to do this, you must specify 'dtype=object' when creating the ndarray\n",
            "  return array(a, dtype, copy=False, order=order)\n",
            "/usr/local/lib/python3.7/dist-packages/numpy/core/_asarray.py:83: VisibleDeprecationWarning: Creating an ndarray from ragged nested sequences (which is a list-or-tuple of lists-or-tuples-or ndarrays with different lengths or shapes) is deprecated. If you meant to do this, you must specify 'dtype=object' when creating the ndarray\n",
            "  return array(a, dtype, copy=False, order=order)\n",
            "/usr/local/lib/python3.7/dist-packages/numpy/core/_asarray.py:83: VisibleDeprecationWarning: Creating an ndarray from ragged nested sequences (which is a list-or-tuple of lists-or-tuples-or ndarrays with different lengths or shapes) is deprecated. If you meant to do this, you must specify 'dtype=object' when creating the ndarray\n",
            "  return array(a, dtype, copy=False, order=order)\n",
            "/usr/local/lib/python3.7/dist-packages/numpy/core/_asarray.py:83: VisibleDeprecationWarning: Creating an ndarray from ragged nested sequences (which is a list-or-tuple of lists-or-tuples-or ndarrays with different lengths or shapes) is deprecated. If you meant to do this, you must specify 'dtype=object' when creating the ndarray\n",
            "  return array(a, dtype, copy=False, order=order)\n"
          ]
        },
        {
          "output_type": "display_data",
          "data": {
            "image/png": "[encoded data removed]",
            "text/plain": [
              "<Figure size 432x432 with 1 Axes>"
            ]
          },
          "metadata": {
            "needs_background": "light"
          }
        },
        {
          "output_type": "display_data",
          "data": {
            "image/png": "[encoded data removed]",
            "text/plain": [
              "<Figure size 432x432 with 1 Axes>"
            ]
          },
          "metadata": {
            "needs_background": "light"
          }
        },
        {
          "output_type": "display_data",
          "data": {
            "image/png": "[encoded data removed]",
            "text/plain": [
              "<Figure size 432x432 with 1 Axes>"
            ]
          },
          "metadata": {
            "needs_background": "light"
          }
        },
        {
          "output_type": "display_data",
          "data": {
            "image/png": "[encoded data removed]",
            "text/plain": [
              "<Figure size 432x432 with 1 Axes>"
            ]
          },
          "metadata": {
            "needs_background": "light"
          }
        },
        {
          "output_type": "display_data",
          "data": {
            "image/png": "[encoded data removed]",
            "text/plain": [
              "<Figure size 432x432 with 1 Axes>"
            ]
          },
          "metadata": {
            "needs_background": "light"
          }
        },
        {
          "output_type": "display_data",
          "data": {
            "image/png": "[encoded data removed]",
            "text/plain": [
              "<Figure size 432x432 with 1 Axes>"
            ]
          },
          "metadata": {
            "needs_background": "light"
          }
        },
        {
          "output_type": "display_data",
          "data": {
            "image/png": "[encoded data removed]",
            "text/plain": [
              "<Figure size 432x432 with 1 Axes>"
            ]
          },
          "metadata": {
            "needs_background": "light"
          }
        }
      ]
    },
    {
      "cell_type": "markdown",
      "metadata": {
        "id": "kdZtaqBekq4p"
      },
      "source": [
        "# **Treinamento e Teste**"
      ]
    },
    {
      "cell_type": "code",
      "metadata": {
        "colab": {
          "base_uri": "https://localhost:8080/"
        },
        "id": "BskG_fAOhtm3",
        "outputId": "2a476357-4ead-46e8-8cc2-dde0ab130225"
      },
      "source": [
        "from sklearn.model_selection import train_test_split\n",
        "\n",
        "X_train, X_test, y_train, y_test = train_test_split(X, y, test_size=0.30, random_state=0)\n",
        "\n",
        "print(\"Training cases: %d\\nTest cases: %d\" % (X_train.shape[0], X_test.shape[0]))"
      ],
      "execution_count": 21,
      "outputs": [
        {
          "output_type": "stream",
          "name": "stdout",
          "text": [
            "Training cases: 537\n",
            "Test cases: 231\n"
          ]
        }
      ]
    },
    {
      "cell_type": "code",
      "metadata": {
        "colab": {
          "base_uri": "https://localhost:8080/"
        },
        "id": "yVEC8zv7kcD_",
        "outputId": "6474beed-2734-4d4e-eb0e-b479e941c83c"
      },
      "source": [
        "from sklearn.linear_model import LogisticRegression\n",
        "\n",
        "reg = 0.1\n",
        "\n",
        "model = LogisticRegression(C = 1/reg, solver=\"liblinear\").fit(X_train, y_train)\n",
        "print(model)"
      ],
      "execution_count": 22,
      "outputs": [
        {
          "output_type": "stream",
          "name": "stdout",
          "text": [
            "LogisticRegression(C=10.0, class_weight=None, dual=False, fit_intercept=True,\n",
            "                   intercept_scaling=1, l1_ratio=None, max_iter=100,\n",
            "                   multi_class='auto', n_jobs=None, penalty='l2',\n",
            "                   random_state=None, solver='liblinear', tol=0.0001, verbose=0,\n",
            "                   warm_start=False)\n"
          ]
        }
      ]
    },
    {
      "cell_type": "code",
      "metadata": {
        "colab": {
          "base_uri": "https://localhost:8080/"
        },
        "id": "NqTCPGARl792",
        "outputId": "d09567d2-de0c-492e-86db-66d7f7f8e6ba"
      },
      "source": [
        "predictions = model.predict(X_test)\n",
        "print(\"Rótulos Previstos: \", predictions)\n",
        "print(\"Rótulos Atuais: \", y_test)"
      ],
      "execution_count": 23,
      "outputs": [
        {
          "output_type": "stream",
          "name": "stdout",
          "text": [
            "Rótulos Previstos:  [1 0 0 1 0 0 1 1 0 0 1 1 0 0 0 0 1 0 0 0 1 0 0 0 0 0 0 1 0 0 0 0 0 0 0 1 0\n",
            " 0 0 1 0 0 0 1 1 0 0 0 0 0 0 0 1 1 0 0 0 1 0 0 1 0 0 0 1 1 1 0 0 0 0 0 0 1\n",
            " 1 0 0 1 0 0 0 0 0 0 0 0 0 0 1 0 0 0 0 0 1 0 0 1 1 0 0 0 0 0 1 0 0 0 0 1 0\n",
            " 0 1 0 1 1 0 1 0 1 0 0 0 0 0 0 0 0 0 0 0 0 0 1 0 0 0 0 0 0 0 1 0 0 0 0 0 0\n",
            " 0 0 0 1 0 0 1 0 1 0 0 1 1 1 0 0 1 0 0 0 0 0 0 0 0 0 1 0 0 0 0 0 0 1 0 1 0\n",
            " 0 0 0 0 0 0 0 0 0 0 1 1 0 0 0 0 0 0 0 0 0 0 0 0 0 0 0 0 0 0 0 0 0 0 0 0 0\n",
            " 1 1 1 1 0 0 0 0 0]\n",
            "Rótulos Atuais:  [1 0 0 1 0 0 1 1 0 0 1 1 0 0 0 0 1 0 0 0 1 1 0 0 0 0 0 0 0 0 0 0 0 0 0 1 1\n",
            " 0 0 0 0 0 0 1 1 0 0 1 1 1 0 0 1 0 0 0 0 1 1 1 1 0 0 1 1 1 1 0 0 0 0 0 0 0\n",
            " 1 0 0 0 0 0 0 0 0 0 0 0 1 0 1 0 0 0 0 0 0 0 1 0 1 1 0 0 0 0 0 1 0 0 0 1 0\n",
            " 1 1 1 1 1 0 0 0 1 0 0 0 0 0 0 0 1 0 0 0 0 0 1 0 1 0 1 1 0 0 0 0 0 1 0 0 0\n",
            " 0 1 0 1 0 0 1 0 0 0 1 1 1 1 0 0 0 1 0 0 0 0 0 0 1 1 0 0 0 0 0 0 1 1 0 1 1\n",
            " 0 1 1 1 0 0 0 0 0 0 1 1 0 0 0 0 0 0 0 1 0 0 0 1 0 1 0 0 0 0 0 1 1 0 0 1 0\n",
            " 1 1 0 0 1 1 0 0 0]\n"
          ]
        }
      ]
    },
    {
      "cell_type": "code",
      "metadata": {
        "colab": {
          "base_uri": "https://localhost:8080/"
        },
        "id": "bSE7V1nQmTap",
        "outputId": "b1b629f1-a19a-4b3c-b5cc-e7618b353297"
      },
      "source": [
        "from sklearn.metrics import accuracy_score\n",
        "print(\"Accuracy: \", accuracy_score(y_test, predictions))"
      ],
      "execution_count": 24,
      "outputs": [
        {
          "output_type": "stream",
          "name": "stdout",
          "text": [
            "Accuracy:  0.7748917748917749\n"
          ]
        }
      ]
    },
    {
      "cell_type": "code",
      "metadata": {
        "colab": {
          "base_uri": "https://localhost:8080/"
        },
        "id": "KjcsxmkamhB_",
        "outputId": "0ab5612b-639d-4eaf-8f7f-90005926f036"
      },
      "source": [
        "from sklearn.metrics import classification_report\n",
        "print(classification_report(y_test, predictions))"
      ],
      "execution_count": 25,
      "outputs": [
        {
          "output_type": "stream",
          "name": "stdout",
          "text": [
            "              precision    recall  f1-score   support\n",
            "\n",
            "           0       0.79      0.90      0.85       157\n",
            "           1       0.71      0.50      0.59        74\n",
            "\n",
            "    accuracy                           0.77       231\n",
            "   macro avg       0.75      0.70      0.72       231\n",
            "weighted avg       0.77      0.77      0.76       231\n",
            "\n"
          ]
        }
      ]
    },
    {
      "cell_type": "code",
      "metadata": {
        "colab": {
          "base_uri": "https://localhost:8080/"
        },
        "id": "XYQWQkV-nDB6",
        "outputId": "d30370c8-3d40-4ab9-8e46-5fa2de289f2f"
      },
      "source": [
        "from sklearn.metrics import confusion_matrix\n",
        "cm = confusion_matrix(y_test, predictions)\n",
        "print(cm)"
      ],
      "execution_count": 27,
      "outputs": [
        {
          "output_type": "stream",
          "name": "stdout",
          "text": [
            "[[142  15]\n",
            " [ 37  37]]\n"
          ]
        }
      ]
    },
    {
      "cell_type": "code",
      "metadata": {
        "colab": {
          "base_uri": "https://localhost:8080/"
        },
        "id": "flAOmR6Qosbh",
        "outputId": "d02fe831-b519-4c1e-a3fd-caa21b5bfadb"
      },
      "source": [
        "y_scores = model.predict_proba(X_test)\n",
        "print(y_scores)"
      ],
      "execution_count": 29,
      "outputs": [
        {
          "output_type": "stream",
          "name": "stdout",
          "text": [
            "[[0.05298856 0.94701144]\n",
            " [0.8205625  0.1794375 ]\n",
            " [0.90588735 0.09411265]\n",
            " [0.36894594 0.63105406]\n",
            " [0.87025929 0.12974071]\n",
            " [0.95311142 0.04688858]\n",
            " [0.26816697 0.73183303]\n",
            " [0.1494916  0.8505084 ]\n",
            " [0.65771629 0.34228371]\n",
            " [0.63662828 0.36337172]\n",
            " [0.42398474 0.57601526]\n",
            " [0.05066637 0.94933363]\n",
            " [0.69769927 0.30230073]\n",
            " [0.8570232  0.1429768 ]\n",
            " [0.87163818 0.12836182]\n",
            " [0.83535903 0.16464097]\n",
            " [0.15925748 0.84074252]\n",
            " [0.97356537 0.02643463]\n",
            " [0.53446826 0.46553174]\n",
            " [0.78401903 0.21598097]\n",
            " [0.33627872 0.66372128]\n",
            " [0.56400038 0.43599962]\n",
            " [0.89432356 0.10567644]\n",
            " [0.91940515 0.08059485]\n",
            " [0.9411154  0.0588846 ]\n",
            " [0.67608464 0.32391536]\n",
            " [0.93913303 0.06086697]\n",
            " [0.09864407 0.90135593]\n",
            " [0.88021813 0.11978187]\n",
            " [0.84516859 0.15483141]\n",
            " [0.53371895 0.46628105]\n",
            " [0.76914892 0.23085108]\n",
            " [0.87413835 0.12586165]\n",
            " [0.61763114 0.38236886]\n",
            " [0.90150563 0.09849437]\n",
            " [0.31490802 0.68509198]\n",
            " [0.50980522 0.49019478]\n",
            " [0.87592893 0.12407107]\n",
            " [0.73818744 0.26181256]\n",
            " [0.2893332  0.7106668 ]\n",
            " [0.73052505 0.26947495]\n",
            " [0.76481381 0.23518619]\n",
            " [0.84772755 0.15227245]\n",
            " [0.19238656 0.80761344]\n",
            " [0.25805374 0.74194626]\n",
            " [0.98633183 0.01366817]\n",
            " [0.9105741  0.0894259 ]\n",
            " [0.79473067 0.20526933]\n",
            " [0.67833238 0.32166762]\n",
            " [0.6667725  0.3332275 ]\n",
            " [0.59851648 0.40148352]\n",
            " [0.83551332 0.16448668]\n",
            " [0.15418314 0.84581686]\n",
            " [0.46384366 0.53615634]\n",
            " [0.85779123 0.14220877]\n",
            " [0.99707802 0.00292198]\n",
            " [0.93299473 0.06700527]\n",
            " [0.38894318 0.61105682]\n",
            " [0.71168402 0.28831598]\n",
            " [0.95950792 0.04049208]\n",
            " [0.21444812 0.78555188]\n",
            " [0.52104365 0.47895635]\n",
            " [0.87617539 0.12382461]\n",
            " [0.51269364 0.48730636]\n",
            " [0.3094305  0.6905695 ]\n",
            " [0.10698213 0.89301787]\n",
            " [0.25309964 0.74690036]\n",
            " [0.82557785 0.17442215]\n",
            " [0.69213013 0.30786987]\n",
            " [0.87406469 0.12593531]\n",
            " [0.8694352  0.1305648 ]\n",
            " [0.77533925 0.22466075]\n",
            " [0.89594209 0.10405791]\n",
            " [0.04882588 0.95117412]\n",
            " [0.1693621  0.8306379 ]\n",
            " [0.63267821 0.36732179]\n",
            " [0.82769154 0.17230846]\n",
            " [0.3812271  0.6187729 ]\n",
            " [0.90372346 0.09627654]\n",
            " [0.80870071 0.19129929]\n",
            " [0.65419774 0.34580226]\n",
            " [0.60401837 0.39598163]\n",
            " [0.77967024 0.22032976]\n",
            " [0.96226079 0.03773921]\n",
            " [0.81469397 0.18530603]\n",
            " [0.76039913 0.23960087]\n",
            " [0.73811058 0.26188942]\n",
            " [0.71319068 0.28680932]\n",
            " [0.12466038 0.87533962]\n",
            " [0.80738711 0.19261289]\n",
            " [0.81376689 0.18623311]\n",
            " [0.77613988 0.22386012]\n",
            " [0.80378394 0.19621606]\n",
            " [0.94382751 0.05617249]\n",
            " [0.33708123 0.66291877]\n",
            " [0.82719084 0.17280916]\n",
            " [0.58639186 0.41360814]\n",
            " [0.45427374 0.54572626]\n",
            " [0.42879377 0.57120623]\n",
            " [0.73905464 0.26094536]\n",
            " [0.71511554 0.28488446]\n",
            " [0.91525518 0.08474482]\n",
            " [0.72151376 0.27848624]\n",
            " [0.95544673 0.04455327]\n",
            " [0.42519516 0.57480484]\n",
            " [0.65427407 0.34572593]\n",
            " [0.8243992  0.1756008 ]\n",
            " [0.69317162 0.30682838]\n",
            " [0.94126551 0.05873449]\n",
            " [0.27385922 0.72614078]\n",
            " [0.90125335 0.09874665]\n",
            " [0.6632481  0.3367519 ]\n",
            " [0.40683541 0.59316459]\n",
            " [0.53569273 0.46430727]\n",
            " [0.42135508 0.57864492]\n",
            " [0.34163456 0.65836544]\n",
            " [0.88653154 0.11346846]\n",
            " [0.39932561 0.60067439]\n",
            " [0.86493376 0.13506624]\n",
            " [0.26794038 0.73205962]\n",
            " [0.61218378 0.38781622]\n",
            " [0.53495103 0.46504897]\n",
            " [0.71921466 0.28078534]\n",
            " [0.5301537  0.4698463 ]\n",
            " [0.75977802 0.24022198]\n",
            " [0.94973277 0.05026723]\n",
            " [0.62960304 0.37039696]\n",
            " [0.64132495 0.35867505]\n",
            " [0.5754715  0.4245285 ]\n",
            " [0.55820153 0.44179847]\n",
            " [0.64784671 0.35215329]\n",
            " [0.97831499 0.02168501]\n",
            " [0.94088797 0.05911203]\n",
            " [0.26872108 0.73127892]\n",
            " [0.7252066  0.2747934 ]\n",
            " [0.60455292 0.39544708]\n",
            " [0.87938494 0.12061506]\n",
            " [0.64445949 0.35554051]\n",
            " [0.57036017 0.42963983]\n",
            " [0.81777452 0.18222548]\n",
            " [0.91286838 0.08713162]\n",
            " [0.46406887 0.53593113]\n",
            " [0.92803759 0.07196241]\n",
            " [0.90713816 0.09286184]\n",
            " [0.66420716 0.33579284]\n",
            " [0.91490531 0.08509469]\n",
            " [0.92072123 0.07927877]\n",
            " [0.90502183 0.09497817]\n",
            " [0.86550338 0.13449662]\n",
            " [0.78606462 0.21393538]\n",
            " [0.92082251 0.07917749]\n",
            " [0.32270297 0.67729703]\n",
            " [0.87634614 0.12365386]\n",
            " [0.81522373 0.18477627]\n",
            " [0.2441878  0.7558122 ]\n",
            " [0.88053487 0.11946513]\n",
            " [0.26450926 0.73549074]\n",
            " [0.87504708 0.12495292]\n",
            " [0.67979008 0.32020992]\n",
            " [0.11722083 0.88277917]\n",
            " [0.36315262 0.63684738]\n",
            " [0.21651432 0.78348568]\n",
            " [0.97932642 0.02067358]\n",
            " [0.76348586 0.23651414]\n",
            " [0.15686845 0.84313155]\n",
            " [0.82379786 0.17620214]\n",
            " [0.81388433 0.18611567]\n",
            " [0.87955543 0.12044457]\n",
            " [0.76127828 0.23872172]\n",
            " [0.85340432 0.14659568]\n",
            " [0.92437325 0.07562675]\n",
            " [0.79527567 0.20472433]\n",
            " [0.79549602 0.20450398]\n",
            " [0.73354126 0.26645874]\n",
            " [0.44068167 0.55931833]\n",
            " [0.86703447 0.13296553]\n",
            " [0.61258875 0.38741125]\n",
            " [0.87254003 0.12745997]\n",
            " [0.86084217 0.13915783]\n",
            " [0.92771111 0.07228889]\n",
            " [0.81271297 0.18728703]\n",
            " [0.12070588 0.87929412]\n",
            " [0.86151694 0.13848306]\n",
            " [0.07410098 0.92589902]\n",
            " [0.51480549 0.48519451]\n",
            " [0.97230772 0.02769228]\n",
            " [0.54824893 0.45175107]\n",
            " [0.73279721 0.26720279]\n",
            " [0.61647291 0.38352709]\n",
            " [0.87793495 0.12206505]\n",
            " [0.77293593 0.22706407]\n",
            " [0.88948363 0.11051637]\n",
            " [0.91386742 0.08613258]\n",
            " [0.79468368 0.20531632]\n",
            " [0.88613441 0.11386559]\n",
            " [0.21152747 0.78847253]\n",
            " [0.2514009  0.7485991 ]\n",
            " [0.55761747 0.44238253]\n",
            " [0.93993428 0.06006572]\n",
            " [0.65408057 0.34591943]\n",
            " [0.9271673  0.0728327 ]\n",
            " [0.86836024 0.13163976]\n",
            " [0.84974756 0.15025244]\n",
            " [0.52315033 0.47684967]\n",
            " [0.77346426 0.22653574]\n",
            " [0.87132126 0.12867874]\n",
            " [0.76398287 0.23601713]\n",
            " [0.80431283 0.19568717]\n",
            " [0.61553121 0.38446879]\n",
            " [0.89215204 0.10784796]\n",
            " [0.85959785 0.14040215]\n",
            " [0.91978575 0.08021425]\n",
            " [0.6610336  0.3389664 ]\n",
            " [0.7186863  0.2813137 ]\n",
            " [0.79356552 0.20643448]\n",
            " [0.64395804 0.35604196]\n",
            " [0.64129355 0.35870645]\n",
            " [0.71029685 0.28970315]\n",
            " [0.54564662 0.45435338]\n",
            " [0.76426148 0.23573852]\n",
            " [0.86616276 0.13383724]\n",
            " [0.94921115 0.05078885]\n",
            " [0.49248305 0.50751695]\n",
            " [0.33568629 0.66431371]\n",
            " [0.38311805 0.61688195]\n",
            " [0.27314104 0.72685896]\n",
            " [0.75219385 0.24780615]\n",
            " [0.74650796 0.25349204]\n",
            " [0.94517309 0.05482691]\n",
            " [0.80260715 0.19739285]\n",
            " [0.5646516  0.4353484 ]]\n"
          ]
        }
      ]
    },
    {
      "cell_type": "code",
      "metadata": {
        "colab": {
          "base_uri": "https://localhost:8080/",
          "height": 404
        },
        "id": "TTYRBP4cn1U8",
        "outputId": "6e8a8c09-8726-4542-fd62-c6f59bcf96a6"
      },
      "source": [
        "from sklearn.metrics import roc_curve\n",
        "from sklearn.metrics import confusion_matrix\n",
        "import matplotlib\n",
        "import matplotlib.pyplot as plt\n",
        "%matplotlib inline\n",
        "\n",
        "fpr, tpr, thresholds = roc_curve(y_test, y_scores[:,1])\n",
        "\n",
        "fig = plt.figure(figsize=(6,6))\n",
        "plt.plot([0,1], [0,1], \"k--\")\n",
        "plt.plot(fpr, tpr)\n",
        "plt.xlabel(\"Falso positivo\")\n",
        "plt.ylabel(\"Verdadeiro positivo\")\n",
        "plt.title(\"Curva ROC\")\n",
        "plt.show()"
      ],
      "execution_count": 32,
      "outputs": [
        {
          "output_type": "display_data",
          "data": {
            "image/png": "[encoded data removed]",
            "text/plain": [
              "<Figure size 432x432 with 1 Axes>"
            ]
          },
          "metadata": {
            "needs_background": "light"
          }
        }
      ]
    },
    {
      "cell_type": "code",
      "metadata": {
        "colab": {
          "base_uri": "https://localhost:8080/"
        },
        "id": "69iu_4Wpndxb",
        "outputId": "ea2e4aff-0041-4532-9e44-b7ab69db8572"
      },
      "source": [
        "from sklearn.metrics import roc_auc_score\n",
        "\n",
        "auc = roc_auc_score(y_test, y_scores[:,1])\n",
        "print(\"AUC: \" + str(auc))"
      ],
      "execution_count": 33,
      "outputs": [
        {
          "output_type": "stream",
          "name": "stdout",
          "text": [
            "AUC: 0.8349113444654845\n"
          ]
        }
      ]
    }
  ]
}